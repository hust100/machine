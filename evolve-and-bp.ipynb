{
 "cells": [
  {
   "cell_type": "markdown",
   "metadata": {},
   "source": [
    "# 遗传算法 "
   ]
  },
  {
   "cell_type": "markdown",
   "metadata": {},
   "source": [
    "启发式搜索：基于历史经验的可行解，相比于计算解，精度较低，但是搜索快，容易找到全局解，避免局部极值\n",
    "\n",
    "并行计算  "
   ]
  },
  {
   "cell_type": "markdown",
   "metadata": {},
   "source": [
    "## 编码方法"
   ]
  },
  {
   "cell_type": "markdown",
   "metadata": {},
   "source": [
    "编码长度：个体(染色体)基因的长度  \n",
    "\n",
    "二进制编码   根据解的区间和精度来确定长度 比如区间为[0,5],要求解保留小数点后4位 那么可知解的长度n应满足    2^(n-1)<(5-0)*10^4 <2^n  ,此种编码易于解码和解释，但是当要求精度较高时，所需的存储空间较大  \n",
    "\n",
    "实数编码  此种编码方法比较符合实际 "
   ]
  },
  {
   "cell_type": "markdown",
   "metadata": {},
   "source": [
    "## 适应度函数"
   ]
  },
  {
   "cell_type": "markdown",
   "metadata": {},
   "source": [
    "遗传进化(表示个体优劣)的评价函数"
   ]
  },
  {
   "cell_type": "markdown",
   "metadata": {},
   "source": [
    "## 操作算子"
   ]
  },
  {
   "cell_type": "markdown",
   "metadata": {},
   "source": [
    "选择  \n",
    "\n",
    "交叉  \n",
    "\n",
    "变异\n"
   ]
  },
  {
   "cell_type": "markdown",
   "metadata": {},
   "source": [
    "## 运行参数"
   ]
  },
  {
   "cell_type": "markdown",
   "metadata": {},
   "source": [
    "结构化参数  \n",
    "问题维度：单个解  多个解  \n",
    "种群大小  \n",
    "交叉概率  \n",
    "\n",
    "变异概率\n"
   ]
  },
  {
   "cell_type": "markdown",
   "metadata": {},
   "source": [
    "#  BP神经网络"
   ]
  },
  {
   "cell_type": "markdown",
   "metadata": {},
   "source": [
    "BP 误差反向传播，一般配合梯度(偏导数)下降算法来训练神经网络  \n"
   ]
  },
  {
   "cell_type": "markdown",
   "metadata": {},
   "source": [
    "#  遗传算法与BP神经网络的结合"
   ]
  },
  {
   "cell_type": "markdown",
   "metadata": {},
   "source": [
    "此种应用，简明说就是应用遗传算法不断寻找神经网络的最优权值和阈值  注意：训练过程中没有用梯度下降法来更新权值和阈值  \n",
    "\n",
    "分为三个步骤：  \n",
    "1: 根据实际问题，确定神经的结构(权值和阈值个数)并进行初始化，此时需要计算网络输出(便于计算初始的适应值)   \n",
    "\n",
    "2：初始化的权值和阈值进行编码，将网络输出的误差作为适应度函数，利用遗传算法不断搜索优化权值和阈值，此处停止条件可为误差精度或者迭代次数   \n",
    "\n",
    "3：将搜索到的最优个体赋给神经网络  此时如果在第二步中停止条件为迭代次数，那么在最优个体赋值给神经网络后还需要计算训练误差，如果精度不满足，返回到步骤2(不过此时的权值和阈值为当前最优搜索到的，误差也为最新的)。如果停止条件为误差精度，直接就可得到最优神经网络。 一般选择停止条件为迭代次数"
   ]
  },
  {
   "cell_type": "code",
   "execution_count": null,
   "metadata": {},
   "outputs": [],
   "source": []
  }
 ],
 "metadata": {
  "kernelspec": {
   "display_name": "Python 3",
   "language": "python",
   "name": "python3"
  },
  "language_info": {
   "codemirror_mode": {
    "name": "ipython",
    "version": 3
   },
   "file_extension": ".py",
   "mimetype": "text/x-python",
   "name": "python",
   "nbconvert_exporter": "python",
   "pygments_lexer": "ipython3",
   "version": "3.6.4"
  },
  "toc": {
   "base_numbering": 1,
   "nav_menu": {},
   "number_sections": true,
   "sideBar": true,
   "skip_h1_title": false,
   "title_cell": "Table of Contents",
   "title_sidebar": "Contents",
   "toc_cell": false,
   "toc_position": {
    "height": "calc(100% - 180px)",
    "left": "10px",
    "top": "150px",
    "width": "165px"
   },
   "toc_section_display": true,
   "toc_window_display": true
  }
 },
 "nbformat": 4,
 "nbformat_minor": 2
}
