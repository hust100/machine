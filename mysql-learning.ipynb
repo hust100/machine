{
 "cells": [
  {
   "cell_type": "markdown",
   "metadata": {},
   "source": [
    "bin目录下mysqld --install后  \n",
    "mysql无法启动但无任何报告错误  \n",
    "这是因为mysql目录下没有data文件夹，需要初始化一个  \n",
    "mysqld --initialize-insecure"
   ]
  },
  {
   "cell_type": "markdown",
   "metadata": {},
   "source": [
    "链接远程主机数据库  \n",
    "\n",
    "mysql -h 202.116.96.96 -u root -p 12345  \n",
    "\n",
    "本地主机直接  mysql -u root -p"
   ]
  },
  {
   "cell_type": "markdown",
   "metadata": {},
   "source": [
    "查看数据库 show databases;  \n",
    "\n",
    "创建自己的数据库 create database xxx;  \n",
    "\n",
    "选择要操作的数据库 use xxx;  \n",
    "\n",
    "在选择的数据库中创建数据表 create table xxxx;  \n",
    "这里表中每列的名称不能重复，第一列为primary key用以区分不同的行  \n",
    "数据类型 char int等  \n",
    "not null 数据不能为空  \n",
    "\n",
    "查看创建的数据库表 describe xxxx;  \n",
    "\n",
    "向数据库表中添加数据 insert into xxxx values(值1，值2,...);  \n",
    "              insert into xxxx(列1，列3) values(值1，值2，...);  \n",
    "\n",
    "查询数据表中全部数据 select * from xxxx;  \n",
    "\n",
    "查询表中特定的列  select 列1，列3 from xxxx;  \n",
    "\n",
    "\n",
    "按条件查找表中的数据  select 列1，列3 from xxxx where  >  ;  \n",
    "\n",
    "修改表中的数据  update xxxx set 列1=修改的数据 where 修改范围;  \n",
    "\n",
    "删除数据表中的数据  delete from xxxx where 条件;  \n",
    "\n",
    "修改数据表中的列  alter table xxxx change 列1 新数据类型;  \n",
    "\n",
    "删除数据表中的列  alter table xxxx drop 列1;  \n",
    "\n",
    "重命名数据表名  alter table xxxx rename xxxxx；  \n",
    "\n",
    "删除数据表  drop table xxxxx;  \n",
    "\n",
    "删除数据库 drop database xxx;  \n",
    "\n",
    " "
   ]
  },
  {
   "cell_type": "code",
   "execution_count": null,
   "metadata": {},
   "outputs": [],
   "source": []
  }
 ],
 "metadata": {
  "kernelspec": {
   "display_name": "Python 3",
   "language": "python",
   "name": "python3"
  },
  "language_info": {
   "codemirror_mode": {
    "name": "ipython",
    "version": 3
   },
   "file_extension": ".py",
   "mimetype": "text/x-python",
   "name": "python",
   "nbconvert_exporter": "python",
   "pygments_lexer": "ipython3",
   "version": "3.6.4"
  },
  "toc": {
   "base_numbering": 1,
   "nav_menu": {},
   "number_sections": true,
   "sideBar": true,
   "skip_h1_title": false,
   "title_cell": "Table of Contents",
   "title_sidebar": "Contents",
   "toc_cell": false,
   "toc_position": {},
   "toc_section_display": true,
   "toc_window_display": false
  }
 },
 "nbformat": 4,
 "nbformat_minor": 2
}
